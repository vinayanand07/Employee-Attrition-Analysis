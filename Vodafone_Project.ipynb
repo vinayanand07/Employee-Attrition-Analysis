{
 "cells": [
  {
   "cell_type": "markdown",
   "metadata": {},
   "source": [
    "## Employee attrition analysis"
   ]
  },
  {
   "cell_type": "code",
   "execution_count": 260,
   "metadata": {},
   "outputs": [],
   "source": [
    "import pandas as pd\n",
    "import numpy as np\n",
    "import matplotlib.pyplot as plt\n",
    "import seaborn as sns\n",
    "%matplotlib inline"
   ]
  },
  {
   "cell_type": "code",
   "execution_count": 263,
   "metadata": {},
   "outputs": [],
   "source": [
    "employees = pd.read_csv('GBIS_Case_Study_2_Data_All.csv')"
   ]
  },
  {
   "cell_type": "markdown",
   "metadata": {},
   "source": [
    "This dataset has records of employees who are working and who left  "
   ]
  },
  {
   "cell_type": "code",
   "execution_count": 138,
   "metadata": {},
   "outputs": [
    {
     "data": {
      "text/html": [
       "<div>\n",
       "<style scoped>\n",
       "    .dataframe tbody tr th:only-of-type {\n",
       "        vertical-align: middle;\n",
       "    }\n",
       "\n",
       "    .dataframe tbody tr th {\n",
       "        vertical-align: top;\n",
       "    }\n",
       "\n",
       "    .dataframe thead th {\n",
       "        text-align: right;\n",
       "    }\n",
       "</style>\n",
       "<table border=\"1\" class=\"dataframe\">\n",
       "  <thead>\n",
       "    <tr style=\"text-align: right;\">\n",
       "      <th></th>\n",
       "      <th>Emp ID</th>\n",
       "      <th>Total Years of Experience</th>\n",
       "      <th>No. of companies worked for previously</th>\n",
       "      <th>Work life balance Score</th>\n",
       "      <th>Satisfaction level</th>\n",
       "      <th>Last Evaluation</th>\n",
       "      <th>No. of projects</th>\n",
       "      <th>Average montly hours</th>\n",
       "      <th>Tenure of association</th>\n",
       "      <th>Work accident</th>\n",
       "      <th>Promotion in last 5 years</th>\n",
       "      <th>Department</th>\n",
       "      <th>Salary</th>\n",
       "      <th>Who_left</th>\n",
       "    </tr>\n",
       "  </thead>\n",
       "  <tbody>\n",
       "    <tr>\n",
       "      <th>0</th>\n",
       "      <td>2001</td>\n",
       "      <td>13.0</td>\n",
       "      <td>0.0</td>\n",
       "      <td>4.0</td>\n",
       "      <td>0.58</td>\n",
       "      <td>0.74</td>\n",
       "      <td>4.0</td>\n",
       "      <td>215.0</td>\n",
       "      <td>3.0</td>\n",
       "      <td>0.0</td>\n",
       "      <td>0.0</td>\n",
       "      <td>sales</td>\n",
       "      <td>low</td>\n",
       "      <td>0</td>\n",
       "    </tr>\n",
       "    <tr>\n",
       "      <th>1</th>\n",
       "      <td>2002</td>\n",
       "      <td>8.0</td>\n",
       "      <td>2.0</td>\n",
       "      <td>3.0</td>\n",
       "      <td>0.82</td>\n",
       "      <td>0.67</td>\n",
       "      <td>2.0</td>\n",
       "      <td>202.0</td>\n",
       "      <td>3.0</td>\n",
       "      <td>0.0</td>\n",
       "      <td>0.0</td>\n",
       "      <td>sales</td>\n",
       "      <td>low</td>\n",
       "      <td>0</td>\n",
       "    </tr>\n",
       "    <tr>\n",
       "      <th>2</th>\n",
       "      <td>2003</td>\n",
       "      <td>6.0</td>\n",
       "      <td>0.0</td>\n",
       "      <td>2.0</td>\n",
       "      <td>0.45</td>\n",
       "      <td>0.69</td>\n",
       "      <td>5.0</td>\n",
       "      <td>193.0</td>\n",
       "      <td>3.0</td>\n",
       "      <td>0.0</td>\n",
       "      <td>0.0</td>\n",
       "      <td>sales</td>\n",
       "      <td>low</td>\n",
       "      <td>0</td>\n",
       "    </tr>\n",
       "    <tr>\n",
       "      <th>3</th>\n",
       "      <td>2004</td>\n",
       "      <td>12.0</td>\n",
       "      <td>2.0</td>\n",
       "      <td>3.0</td>\n",
       "      <td>0.78</td>\n",
       "      <td>0.82</td>\n",
       "      <td>5.0</td>\n",
       "      <td>247.0</td>\n",
       "      <td>3.0</td>\n",
       "      <td>0.0</td>\n",
       "      <td>0.0</td>\n",
       "      <td>sales</td>\n",
       "      <td>low</td>\n",
       "      <td>0</td>\n",
       "    </tr>\n",
       "    <tr>\n",
       "      <th>4</th>\n",
       "      <td>2005</td>\n",
       "      <td>20.0</td>\n",
       "      <td>1.0</td>\n",
       "      <td>1.0</td>\n",
       "      <td>0.49</td>\n",
       "      <td>0.60</td>\n",
       "      <td>3.0</td>\n",
       "      <td>214.0</td>\n",
       "      <td>2.0</td>\n",
       "      <td>0.0</td>\n",
       "      <td>0.0</td>\n",
       "      <td>sales</td>\n",
       "      <td>low</td>\n",
       "      <td>0</td>\n",
       "    </tr>\n",
       "  </tbody>\n",
       "</table>\n",
       "</div>"
      ],
      "text/plain": [
       "   Emp ID  Total Years of Experience  No. of companies worked for previously  \\\n",
       "0    2001                       13.0                                     0.0   \n",
       "1    2002                        8.0                                     2.0   \n",
       "2    2003                        6.0                                     0.0   \n",
       "3    2004                       12.0                                     2.0   \n",
       "4    2005                       20.0                                     1.0   \n",
       "\n",
       "   Work life balance Score  Satisfaction level  Last Evaluation  \\\n",
       "0                      4.0                0.58             0.74   \n",
       "1                      3.0                0.82             0.67   \n",
       "2                      2.0                0.45             0.69   \n",
       "3                      3.0                0.78             0.82   \n",
       "4                      1.0                0.49             0.60   \n",
       "\n",
       "   No. of projects  Average montly hours  Tenure of association  \\\n",
       "0              4.0                 215.0                    3.0   \n",
       "1              2.0                 202.0                    3.0   \n",
       "2              5.0                 193.0                    3.0   \n",
       "3              5.0                 247.0                    3.0   \n",
       "4              3.0                 214.0                    2.0   \n",
       "\n",
       "   Work accident  Promotion in last 5 years Department Salary  Who_left  \n",
       "0            0.0                        0.0      sales    low         0  \n",
       "1            0.0                        0.0      sales    low         0  \n",
       "2            0.0                        0.0      sales    low         0  \n",
       "3            0.0                        0.0      sales    low         0  \n",
       "4            0.0                        0.0      sales    low         0  "
      ]
     },
     "execution_count": 138,
     "metadata": {},
     "output_type": "execute_result"
    }
   ],
   "source": [
    "employees.head()"
   ]
  },
  {
   "cell_type": "code",
   "execution_count": null,
   "metadata": {},
   "outputs": [],
   "source": []
  },
  {
   "cell_type": "markdown",
   "metadata": {},
   "source": [
    "# Exploratory Data Analysis\n",
    "\n",
    "\n",
    "## Missing Data\n",
    "\n",
    "We can use seaborn to create a simple heatmap to see where we are missing data!"
   ]
  },
  {
   "cell_type": "code",
   "execution_count": 180,
   "metadata": {},
   "outputs": [
    {
     "data": {
      "text/plain": [
       "<AxesSubplot:>"
      ]
     },
     "execution_count": 180,
     "metadata": {},
     "output_type": "execute_result"
    },
    {
     "data": {
      "image/png": "[encoded data removed]",
      "text/plain": [
       "<Figure size 432x288 with 1 Axes>"
      ]
     },
     "metadata": {},
     "output_type": "display_data"
    }
   ],
   "source": [
    "sns.heatmap(employees.isnull(),yticklabels=False,cbar=False,cmap='viridis')"
   ]
  },
  {
   "cell_type": "code",
   "execution_count": 181,
   "metadata": {},
   "outputs": [
    {
     "data": {
      "text/plain": [
       "15006"
      ]
     },
     "execution_count": 181,
     "metadata": {},
     "output_type": "execute_result"
    }
   ],
   "source": [
    "len(employees)"
   ]
  },
  {
   "cell_type": "markdown",
   "metadata": {},
   "source": [
    "# Let's check which department has highest attrition rate"
   ]
  },
  {
   "cell_type": "code",
   "execution_count": 182,
   "metadata": {},
   "outputs": [
    {
     "data": {
      "text/plain": [
       "<AxesSubplot:xlabel='Who_left', ylabel='count'>"
      ]
     },
     "execution_count": 182,
     "metadata": {},
     "output_type": "execute_result"
    },
    {
     "data": {
      "image/png": "[encoded data removed]",
      "text/plain": [
       "<Figure size 432x288 with 1 Axes>"
      ]
     },
     "metadata": {},
     "output_type": "display_data"
    }
   ],
   "source": [
    "sns.set_style('whitegrid')\n",
    "sns.countplot(x='Who_left',hue='Department',data=employees,palette='rainbow')"
   ]
  },
  {
   "cell_type": "code",
   "execution_count": 264,
   "metadata": {},
   "outputs": [
    {
     "data": {
      "image/png": "[encoded data removed]",
      "text/plain": [
       "<Figure size 576x288 with 1 Axes>"
      ]
     },
     "metadata": {},
     "output_type": "display_data"
    }
   ],
   "source": [
    "sns.set_style('whitegrid')\n",
    "plt.figure(figsize=(8,4))\n",
    "ax = sns.countplot(x='Who_left',hue='Department',data=employees,palette='RdBu_r')\n",
    "ax.set_xticklabels(ax.get_xticklabels(), ha=\"right\")\n",
    "plt.tight_layout()\n",
    "plt.show()\n"
   ]
  },
  {
   "cell_type": "code",
   "execution_count": null,
   "metadata": {},
   "outputs": [],
   "source": []
  },
  {
   "cell_type": "code",
   "execution_count": 265,
   "metadata": {
    "scrolled": true
   },
   "outputs": [
    {
     "data": {
      "image/png": "[encoded data removed]",
      "text/plain": [
       "<Figure size 576x288 with 1 Axes>"
      ]
     },
     "metadata": {},
     "output_type": "display_data"
    }
   ],
   "source": [
    "sns.set_style('whitegrid')\n",
    "plt.figure(figsize=(8,4))\n",
    "ax = sns.countplot(x='Who_left',hue='Salary',data=employees,palette='RdBu_r')\n",
    "ax.set_xticklabels(ax.get_xticklabels(), ha=\"right\")\n",
    "plt.tight_layout()\n",
    "plt.show()\n"
   ]
  },
  {
   "cell_type": "code",
   "execution_count": 266,
   "metadata": {},
   "outputs": [
    {
     "name": "stderr",
     "output_type": "stream",
     "text": [
      "C:\\Users\\vinay\\Anaconda3\\lib\\site-packages\\seaborn\\distributions.py:2557: FutureWarning: `distplot` is a deprecated function and will be removed in a future version. Please adapt your code to use either `displot` (a figure-level function with similar flexibility) or `histplot` (an axes-level function for histograms).\n",
      "  warnings.warn(msg, FutureWarning)\n"
     ]
    },
    {
     "data": {
      "text/plain": [
       "<AxesSubplot:xlabel='Tenure of association'>"
      ]
     },
     "execution_count": 266,
     "metadata": {},
     "output_type": "execute_result"
    },
    {
     "data": {
      "image/png": "[encoded data removed]",
      "text/plain": [
       "<Figure size 432x288 with 1 Axes>"
      ]
     },
     "metadata": {},
     "output_type": "display_data"
    }
   ],
   "source": [
    "sns.distplot(employees['Tenure of association'].dropna(),kde=False,color='blue',bins=30)"
   ]
  },
  {
   "cell_type": "code",
   "execution_count": 186,
   "metadata": {},
   "outputs": [
    {
     "data": {
      "text/html": [
       "<div>\n",
       "<style scoped>\n",
       "    .dataframe tbody tr th:only-of-type {\n",
       "        vertical-align: middle;\n",
       "    }\n",
       "\n",
       "    .dataframe tbody tr th {\n",
       "        vertical-align: top;\n",
       "    }\n",
       "\n",
       "    .dataframe thead th {\n",
       "        text-align: right;\n",
       "    }\n",
       "</style>\n",
       "<table border=\"1\" class=\"dataframe\">\n",
       "  <thead>\n",
       "    <tr style=\"text-align: right;\">\n",
       "      <th></th>\n",
       "      <th>Emp ID</th>\n",
       "      <th>Total Years of Experience</th>\n",
       "      <th>No. of companies worked for previously</th>\n",
       "      <th>Work life balance Score</th>\n",
       "      <th>Satisfaction level</th>\n",
       "      <th>Last Evaluation</th>\n",
       "      <th>No. of projects</th>\n",
       "      <th>Average montly hours</th>\n",
       "      <th>Tenure of association</th>\n",
       "      <th>Work accident</th>\n",
       "      <th>Promotion in last 5 years</th>\n",
       "      <th>Who_left</th>\n",
       "    </tr>\n",
       "    <tr>\n",
       "      <th>Department</th>\n",
       "      <th></th>\n",
       "      <th></th>\n",
       "      <th></th>\n",
       "      <th></th>\n",
       "      <th></th>\n",
       "      <th></th>\n",
       "      <th></th>\n",
       "      <th></th>\n",
       "      <th></th>\n",
       "      <th></th>\n",
       "      <th></th>\n",
       "      <th></th>\n",
       "    </tr>\n",
       "  </thead>\n",
       "  <tbody>\n",
       "    <tr>\n",
       "      <th>IT</th>\n",
       "      <td>7653.790375</td>\n",
       "      <td>14.553191</td>\n",
       "      <td>1.115102</td>\n",
       "      <td>2.995912</td>\n",
       "      <td>0.618754</td>\n",
       "      <td>0.717142</td>\n",
       "      <td>3.815661</td>\n",
       "      <td>202.263502</td>\n",
       "      <td>3.466122</td>\n",
       "      <td>0.133279</td>\n",
       "      <td>0.002447</td>\n",
       "      <td>0.221860</td>\n",
       "    </tr>\n",
       "    <tr>\n",
       "      <th>RandD</th>\n",
       "      <td>6762.392857</td>\n",
       "      <td>14.067775</td>\n",
       "      <td>1.070332</td>\n",
       "      <td>3.031888</td>\n",
       "      <td>0.620282</td>\n",
       "      <td>0.711959</td>\n",
       "      <td>3.858238</td>\n",
       "      <td>201.103581</td>\n",
       "      <td>3.368622</td>\n",
       "      <td>0.170918</td>\n",
       "      <td>0.034439</td>\n",
       "      <td>0.151786</td>\n",
       "    </tr>\n",
       "    <tr>\n",
       "      <th>accounting</th>\n",
       "      <td>7266.085938</td>\n",
       "      <td>15.146023</td>\n",
       "      <td>1.096480</td>\n",
       "      <td>3.013038</td>\n",
       "      <td>0.580889</td>\n",
       "      <td>0.717490</td>\n",
       "      <td>3.822917</td>\n",
       "      <td>201.178851</td>\n",
       "      <td>3.522816</td>\n",
       "      <td>0.125000</td>\n",
       "      <td>0.018349</td>\n",
       "      <td>0.265625</td>\n",
       "    </tr>\n",
       "    <tr>\n",
       "      <th>hr</th>\n",
       "      <td>7047.617568</td>\n",
       "      <td>14.867209</td>\n",
       "      <td>1.154263</td>\n",
       "      <td>2.981055</td>\n",
       "      <td>0.598444</td>\n",
       "      <td>0.708959</td>\n",
       "      <td>3.659459</td>\n",
       "      <td>198.934694</td>\n",
       "      <td>3.359079</td>\n",
       "      <td>0.120433</td>\n",
       "      <td>0.020298</td>\n",
       "      <td>0.290541</td>\n",
       "    </tr>\n",
       "    <tr>\n",
       "      <th>management</th>\n",
       "      <td>9439.363492</td>\n",
       "      <td>14.304625</td>\n",
       "      <td>1.085714</td>\n",
       "      <td>2.953968</td>\n",
       "      <td>0.621099</td>\n",
       "      <td>0.724000</td>\n",
       "      <td>3.860095</td>\n",
       "      <td>201.138315</td>\n",
       "      <td>4.302067</td>\n",
       "      <td>0.163492</td>\n",
       "      <td>0.109524</td>\n",
       "      <td>0.144444</td>\n",
       "    </tr>\n",
       "    <tr>\n",
       "      <th>marketing</th>\n",
       "      <td>7758.968568</td>\n",
       "      <td>14.878077</td>\n",
       "      <td>1.121354</td>\n",
       "      <td>2.933644</td>\n",
       "      <td>0.618926</td>\n",
       "      <td>0.716316</td>\n",
       "      <td>3.688009</td>\n",
       "      <td>199.423392</td>\n",
       "      <td>3.568102</td>\n",
       "      <td>0.160652</td>\n",
       "      <td>0.051222</td>\n",
       "      <td>0.237485</td>\n",
       "    </tr>\n",
       "    <tr>\n",
       "      <th>product_mng</th>\n",
       "      <td>8091.549390</td>\n",
       "      <td>14.327009</td>\n",
       "      <td>1.058824</td>\n",
       "      <td>2.991121</td>\n",
       "      <td>0.619877</td>\n",
       "      <td>0.715050</td>\n",
       "      <td>3.811321</td>\n",
       "      <td>200.144928</td>\n",
       "      <td>3.478309</td>\n",
       "      <td>0.145880</td>\n",
       "      <td>0.000000</td>\n",
       "      <td>0.218646</td>\n",
       "    </tr>\n",
       "    <tr>\n",
       "      <th>sales</th>\n",
       "      <td>7675.607393</td>\n",
       "      <td>14.621208</td>\n",
       "      <td>1.125878</td>\n",
       "      <td>2.989354</td>\n",
       "      <td>0.614460</td>\n",
       "      <td>0.709483</td>\n",
       "      <td>3.775841</td>\n",
       "      <td>200.856622</td>\n",
       "      <td>3.534625</td>\n",
       "      <td>0.141890</td>\n",
       "      <td>0.024455</td>\n",
       "      <td>0.244745</td>\n",
       "    </tr>\n",
       "    <tr>\n",
       "      <th>support</th>\n",
       "      <td>7206.666816</td>\n",
       "      <td>14.883836</td>\n",
       "      <td>1.090705</td>\n",
       "      <td>3.031011</td>\n",
       "      <td>0.618466</td>\n",
       "      <td>0.722806</td>\n",
       "      <td>3.801798</td>\n",
       "      <td>200.746853</td>\n",
       "      <td>3.393243</td>\n",
       "      <td>0.154917</td>\n",
       "      <td>0.008997</td>\n",
       "      <td>0.247867</td>\n",
       "    </tr>\n",
       "    <tr>\n",
       "      <th>technical</th>\n",
       "      <td>7069.752209</td>\n",
       "      <td>14.959704</td>\n",
       "      <td>1.119337</td>\n",
       "      <td>2.951732</td>\n",
       "      <td>0.608727</td>\n",
       "      <td>0.721107</td>\n",
       "      <td>3.879971</td>\n",
       "      <td>202.531169</td>\n",
       "      <td>3.409679</td>\n",
       "      <td>0.139852</td>\n",
       "      <td>0.010313</td>\n",
       "      <td>0.256259</td>\n",
       "    </tr>\n",
       "  </tbody>\n",
       "</table>\n",
       "</div>"
      ],
      "text/plain": [
       "                  Emp ID  Total Years of Experience  \\\n",
       "Department                                            \n",
       "IT           7653.790375                  14.553191   \n",
       "RandD        6762.392857                  14.067775   \n",
       "accounting   7266.085938                  15.146023   \n",
       "hr           7047.617568                  14.867209   \n",
       "management   9439.363492                  14.304625   \n",
       "marketing    7758.968568                  14.878077   \n",
       "product_mng  8091.549390                  14.327009   \n",
       "sales        7675.607393                  14.621208   \n",
       "support      7206.666816                  14.883836   \n",
       "technical    7069.752209                  14.959704   \n",
       "\n",
       "             No. of companies worked for previously  Work life balance Score  \\\n",
       "Department                                                                     \n",
       "IT                                         1.115102                 2.995912   \n",
       "RandD                                      1.070332                 3.031888   \n",
       "accounting                                 1.096480                 3.013038   \n",
       "hr                                         1.154263                 2.981055   \n",
       "management                                 1.085714                 2.953968   \n",
       "marketing                                  1.121354                 2.933644   \n",
       "product_mng                                1.058824                 2.991121   \n",
       "sales                                      1.125878                 2.989354   \n",
       "support                                    1.090705                 3.031011   \n",
       "technical                                  1.119337                 2.951732   \n",
       "\n",
       "             Satisfaction level  Last Evaluation  No. of projects  \\\n",
       "Department                                                          \n",
       "IT                     0.618754         0.717142         3.815661   \n",
       "RandD                  0.620282         0.711959         3.858238   \n",
       "accounting             0.580889         0.717490         3.822917   \n",
       "hr                     0.598444         0.708959         3.659459   \n",
       "management             0.621099         0.724000         3.860095   \n",
       "marketing              0.618926         0.716316         3.688009   \n",
       "product_mng            0.619877         0.715050         3.811321   \n",
       "sales                  0.614460         0.709483         3.775841   \n",
       "support                0.618466         0.722806         3.801798   \n",
       "technical              0.608727         0.721107         3.879971   \n",
       "\n",
       "             Average montly hours  Tenure of association  Work accident  \\\n",
       "Department                                                                \n",
       "IT                     202.263502               3.466122       0.133279   \n",
       "RandD                  201.103581               3.368622       0.170918   \n",
       "accounting             201.178851               3.522816       0.125000   \n",
       "hr                     198.934694               3.359079       0.120433   \n",
       "management             201.138315               4.302067       0.163492   \n",
       "marketing              199.423392               3.568102       0.160652   \n",
       "product_mng            200.144928               3.478309       0.145880   \n",
       "sales                  200.856622               3.534625       0.141890   \n",
       "support                200.746853               3.393243       0.154917   \n",
       "technical              202.531169               3.409679       0.139852   \n",
       "\n",
       "             Promotion in last 5 years  Who_left  \n",
       "Department                                        \n",
       "IT                            0.002447  0.221860  \n",
       "RandD                         0.034439  0.151786  \n",
       "accounting                    0.018349  0.265625  \n",
       "hr                            0.020298  0.290541  \n",
       "management                    0.109524  0.144444  \n",
       "marketing                     0.051222  0.237485  \n",
       "product_mng                   0.000000  0.218646  \n",
       "sales                         0.024455  0.244745  \n",
       "support                       0.008997  0.247867  \n",
       "technical                     0.010313  0.256259  "
      ]
     },
     "execution_count": 186,
     "metadata": {},
     "output_type": "execute_result"
    }
   ],
   "source": [
    "employees.groupby('Department').mean()"
   ]
  },
  {
   "cell_type": "code",
   "execution_count": 187,
   "metadata": {},
   "outputs": [
    {
     "data": {
      "text/html": [
       "<div>\n",
       "<style scoped>\n",
       "    .dataframe tbody tr th:only-of-type {\n",
       "        vertical-align: middle;\n",
       "    }\n",
       "\n",
       "    .dataframe tbody tr th {\n",
       "        vertical-align: top;\n",
       "    }\n",
       "\n",
       "    .dataframe thead th {\n",
       "        text-align: right;\n",
       "    }\n",
       "</style>\n",
       "<table border=\"1\" class=\"dataframe\">\n",
       "  <thead>\n",
       "    <tr style=\"text-align: right;\">\n",
       "      <th></th>\n",
       "      <th>Emp ID</th>\n",
       "      <th>Total Years of Experience</th>\n",
       "      <th>No. of companies worked for previously</th>\n",
       "      <th>Work life balance Score</th>\n",
       "      <th>Satisfaction level</th>\n",
       "      <th>Last Evaluation</th>\n",
       "      <th>No. of projects</th>\n",
       "      <th>Average montly hours</th>\n",
       "      <th>Tenure of association</th>\n",
       "      <th>Work accident</th>\n",
       "      <th>Promotion in last 5 years</th>\n",
       "      <th>Who_left</th>\n",
       "    </tr>\n",
       "    <tr>\n",
       "      <th>Salary</th>\n",
       "      <th></th>\n",
       "      <th></th>\n",
       "      <th></th>\n",
       "      <th></th>\n",
       "      <th></th>\n",
       "      <th></th>\n",
       "      <th></th>\n",
       "      <th></th>\n",
       "      <th></th>\n",
       "      <th></th>\n",
       "      <th></th>\n",
       "      <th></th>\n",
       "    </tr>\n",
       "  </thead>\n",
       "  <tbody>\n",
       "    <tr>\n",
       "      <th>high</th>\n",
       "      <td>8622.897332</td>\n",
       "      <td>13.322267</td>\n",
       "      <td>1.016990</td>\n",
       "      <td>2.962005</td>\n",
       "      <td>0.637569</td>\n",
       "      <td>0.704529</td>\n",
       "      <td>3.767179</td>\n",
       "      <td>199.867421</td>\n",
       "      <td>3.692805</td>\n",
       "      <td>0.155340</td>\n",
       "      <td>0.058205</td>\n",
       "      <td>0.066289</td>\n",
       "    </tr>\n",
       "    <tr>\n",
       "      <th>low</th>\n",
       "      <td>7329.131255</td>\n",
       "      <td>15.083127</td>\n",
       "      <td>1.141371</td>\n",
       "      <td>2.994936</td>\n",
       "      <td>0.601196</td>\n",
       "      <td>0.716882</td>\n",
       "      <td>3.798905</td>\n",
       "      <td>200.939577</td>\n",
       "      <td>3.438683</td>\n",
       "      <td>0.141919</td>\n",
       "      <td>0.009164</td>\n",
       "      <td>0.296965</td>\n",
       "    </tr>\n",
       "    <tr>\n",
       "      <th>medium</th>\n",
       "      <td>7483.181579</td>\n",
       "      <td>14.556005</td>\n",
       "      <td>1.092532</td>\n",
       "      <td>2.985872</td>\n",
       "      <td>0.621489</td>\n",
       "      <td>0.717166</td>\n",
       "      <td>3.813373</td>\n",
       "      <td>201.365956</td>\n",
       "      <td>3.528261</td>\n",
       "      <td>0.145296</td>\n",
       "      <td>0.028296</td>\n",
       "      <td>0.204373</td>\n",
       "    </tr>\n",
       "  </tbody>\n",
       "</table>\n",
       "</div>"
      ],
      "text/plain": [
       "             Emp ID  Total Years of Experience  \\\n",
       "Salary                                           \n",
       "high    8622.897332                  13.322267   \n",
       "low     7329.131255                  15.083127   \n",
       "medium  7483.181579                  14.556005   \n",
       "\n",
       "        No. of companies worked for previously  Work life balance Score  \\\n",
       "Salary                                                                    \n",
       "high                                  1.016990                 2.962005   \n",
       "low                                   1.141371                 2.994936   \n",
       "medium                                1.092532                 2.985872   \n",
       "\n",
       "        Satisfaction level  Last Evaluation  No. of projects  \\\n",
       "Salary                                                         \n",
       "high              0.637569         0.704529         3.767179   \n",
       "low               0.601196         0.716882         3.798905   \n",
       "medium            0.621489         0.717166         3.813373   \n",
       "\n",
       "        Average montly hours  Tenure of association  Work accident  \\\n",
       "Salary                                                               \n",
       "high              199.867421               3.692805       0.155340   \n",
       "low               200.939577               3.438683       0.141919   \n",
       "medium            201.365956               3.528261       0.145296   \n",
       "\n",
       "        Promotion in last 5 years  Who_left  \n",
       "Salary                                       \n",
       "high                     0.058205  0.066289  \n",
       "low                      0.009164  0.296965  \n",
       "medium                   0.028296  0.204373  "
      ]
     },
     "execution_count": 187,
     "metadata": {},
     "output_type": "execute_result"
    }
   ],
   "source": [
    "employees.groupby('Salary').mean()"
   ]
  },
  {
   "cell_type": "code",
   "execution_count": 188,
   "metadata": {
    "scrolled": true
   },
   "outputs": [
    {
     "data": {
      "text/html": [
       "<div>\n",
       "<style scoped>\n",
       "    .dataframe tbody tr th:only-of-type {\n",
       "        vertical-align: middle;\n",
       "    }\n",
       "\n",
       "    .dataframe tbody tr th {\n",
       "        vertical-align: top;\n",
       "    }\n",
       "\n",
       "    .dataframe thead th {\n",
       "        text-align: right;\n",
       "    }\n",
       "</style>\n",
       "<table border=\"1\" class=\"dataframe\">\n",
       "  <thead>\n",
       "    <tr style=\"text-align: right;\">\n",
       "      <th></th>\n",
       "      <th>Emp ID</th>\n",
       "      <th>Total Years of Experience</th>\n",
       "      <th>No. of companies worked for previously</th>\n",
       "      <th>Work life balance Score</th>\n",
       "      <th>Satisfaction level</th>\n",
       "      <th>Last Evaluation</th>\n",
       "      <th>No. of projects</th>\n",
       "      <th>Average montly hours</th>\n",
       "      <th>Tenure of association</th>\n",
       "      <th>Work accident</th>\n",
       "      <th>Promotion in last 5 years</th>\n",
       "    </tr>\n",
       "    <tr>\n",
       "      <th>Who_left</th>\n",
       "      <th></th>\n",
       "      <th></th>\n",
       "      <th></th>\n",
       "      <th></th>\n",
       "      <th></th>\n",
       "      <th></th>\n",
       "      <th></th>\n",
       "      <th></th>\n",
       "      <th></th>\n",
       "      <th></th>\n",
       "      <th></th>\n",
       "    </tr>\n",
       "  </thead>\n",
       "  <tbody>\n",
       "    <tr>\n",
       "      <th>0</th>\n",
       "      <td>7814.222203</td>\n",
       "      <td>12.683495</td>\n",
       "      <td>0.997636</td>\n",
       "      <td>2.996936</td>\n",
       "      <td>0.666681</td>\n",
       "      <td>0.715455</td>\n",
       "      <td>3.786377</td>\n",
       "      <td>199.087635</td>\n",
       "      <td>3.380652</td>\n",
       "      <td>0.174967</td>\n",
       "      <td>0.026267</td>\n",
       "    </tr>\n",
       "    <tr>\n",
       "      <th>1</th>\n",
       "      <td>6508.845874</td>\n",
       "      <td>21.255794</td>\n",
       "      <td>1.469302</td>\n",
       "      <td>2.958812</td>\n",
       "      <td>0.439726</td>\n",
       "      <td>0.717904</td>\n",
       "      <td>3.855263</td>\n",
       "      <td>207.377859</td>\n",
       "      <td>3.875316</td>\n",
       "      <td>0.046831</td>\n",
       "      <td>0.005891</td>\n",
       "    </tr>\n",
       "  </tbody>\n",
       "</table>\n",
       "</div>"
      ],
      "text/plain": [
       "               Emp ID  Total Years of Experience  \\\n",
       "Who_left                                           \n",
       "0         7814.222203                  12.683495   \n",
       "1         6508.845874                  21.255794   \n",
       "\n",
       "          No. of companies worked for previously  Work life balance Score  \\\n",
       "Who_left                                                                    \n",
       "0                                       0.997636                 2.996936   \n",
       "1                                       1.469302                 2.958812   \n",
       "\n",
       "          Satisfaction level  Last Evaluation  No. of projects  \\\n",
       "Who_left                                                         \n",
       "0                   0.666681         0.715455         3.786377   \n",
       "1                   0.439726         0.717904         3.855263   \n",
       "\n",
       "          Average montly hours  Tenure of association  Work accident  \\\n",
       "Who_left                                                               \n",
       "0                   199.087635               3.380652       0.174967   \n",
       "1                   207.377859               3.875316       0.046831   \n",
       "\n",
       "          Promotion in last 5 years  \n",
       "Who_left                             \n",
       "0                          0.026267  \n",
       "1                          0.005891  "
      ]
     },
     "execution_count": 188,
     "metadata": {},
     "output_type": "execute_result"
    }
   ],
   "source": [
    "employees.groupby('Who_left').mean()"
   ]
  },
  {
   "cell_type": "markdown",
   "metadata": {},
   "source": [
    "## Few observations:\n",
    "\n",
    "#### ->The average satisfaction level of employees who stayed with the company is higher than that of the employees who left.\n",
    "#### ->The average monthly work hours of employees who left the company is more than that of the employees who stayed.\n",
    "#### ->The employees who had workplace accidents are less likely to leave than that of the employee who did not have workplace accidents.\n",
    "#### ->The employees who were promoted in the last five years are less likely to leave than those who did not get a promotion in the last five years."
   ]
  },
  {
   "cell_type": "code",
   "execution_count": 189,
   "metadata": {
    "scrolled": true
   },
   "outputs": [
    {
     "data": {
      "text/html": [
       "<div>\n",
       "<style scoped>\n",
       "    .dataframe tbody tr th:only-of-type {\n",
       "        vertical-align: middle;\n",
       "    }\n",
       "\n",
       "    .dataframe tbody tr th {\n",
       "        vertical-align: top;\n",
       "    }\n",
       "\n",
       "    .dataframe thead th {\n",
       "        text-align: right;\n",
       "    }\n",
       "</style>\n",
       "<table border=\"1\" class=\"dataframe\">\n",
       "  <thead>\n",
       "    <tr style=\"text-align: right;\">\n",
       "      <th></th>\n",
       "      <th>Emp ID</th>\n",
       "      <th>Total Years of Experience</th>\n",
       "      <th>No. of companies worked for previously</th>\n",
       "      <th>Work life balance Score</th>\n",
       "      <th>Satisfaction level</th>\n",
       "      <th>Last Evaluation</th>\n",
       "      <th>No. of projects</th>\n",
       "      <th>Average montly hours</th>\n",
       "      <th>Tenure of association</th>\n",
       "      <th>Work accident</th>\n",
       "      <th>Promotion in last 5 years</th>\n",
       "      <th>Who_left</th>\n",
       "    </tr>\n",
       "    <tr>\n",
       "      <th>Salary</th>\n",
       "      <th></th>\n",
       "      <th></th>\n",
       "      <th></th>\n",
       "      <th></th>\n",
       "      <th></th>\n",
       "      <th></th>\n",
       "      <th></th>\n",
       "      <th></th>\n",
       "      <th></th>\n",
       "      <th></th>\n",
       "      <th></th>\n",
       "      <th></th>\n",
       "    </tr>\n",
       "  </thead>\n",
       "  <tbody>\n",
       "    <tr>\n",
       "      <th>high</th>\n",
       "      <td>8622.897332</td>\n",
       "      <td>13.322267</td>\n",
       "      <td>1.016990</td>\n",
       "      <td>2.962005</td>\n",
       "      <td>0.637569</td>\n",
       "      <td>0.704529</td>\n",
       "      <td>3.767179</td>\n",
       "      <td>199.867421</td>\n",
       "      <td>3.692805</td>\n",
       "      <td>0.155340</td>\n",
       "      <td>0.058205</td>\n",
       "      <td>0.066289</td>\n",
       "    </tr>\n",
       "    <tr>\n",
       "      <th>low</th>\n",
       "      <td>7329.131255</td>\n",
       "      <td>15.083127</td>\n",
       "      <td>1.141371</td>\n",
       "      <td>2.994936</td>\n",
       "      <td>0.601196</td>\n",
       "      <td>0.716882</td>\n",
       "      <td>3.798905</td>\n",
       "      <td>200.939577</td>\n",
       "      <td>3.438683</td>\n",
       "      <td>0.141919</td>\n",
       "      <td>0.009164</td>\n",
       "      <td>0.296965</td>\n",
       "    </tr>\n",
       "    <tr>\n",
       "      <th>medium</th>\n",
       "      <td>7483.181579</td>\n",
       "      <td>14.556005</td>\n",
       "      <td>1.092532</td>\n",
       "      <td>2.985872</td>\n",
       "      <td>0.621489</td>\n",
       "      <td>0.717166</td>\n",
       "      <td>3.813373</td>\n",
       "      <td>201.365956</td>\n",
       "      <td>3.528261</td>\n",
       "      <td>0.145296</td>\n",
       "      <td>0.028296</td>\n",
       "      <td>0.204373</td>\n",
       "    </tr>\n",
       "  </tbody>\n",
       "</table>\n",
       "</div>"
      ],
      "text/plain": [
       "             Emp ID  Total Years of Experience  \\\n",
       "Salary                                           \n",
       "high    8622.897332                  13.322267   \n",
       "low     7329.131255                  15.083127   \n",
       "medium  7483.181579                  14.556005   \n",
       "\n",
       "        No. of companies worked for previously  Work life balance Score  \\\n",
       "Salary                                                                    \n",
       "high                                  1.016990                 2.962005   \n",
       "low                                   1.141371                 2.994936   \n",
       "medium                                1.092532                 2.985872   \n",
       "\n",
       "        Satisfaction level  Last Evaluation  No. of projects  \\\n",
       "Salary                                                         \n",
       "high              0.637569         0.704529         3.767179   \n",
       "low               0.601196         0.716882         3.798905   \n",
       "medium            0.621489         0.717166         3.813373   \n",
       "\n",
       "        Average montly hours  Tenure of association  Work accident  \\\n",
       "Salary                                                               \n",
       "high              199.867421               3.692805       0.155340   \n",
       "low               200.939577               3.438683       0.141919   \n",
       "medium            201.365956               3.528261       0.145296   \n",
       "\n",
       "        Promotion in last 5 years  Who_left  \n",
       "Salary                                       \n",
       "high                     0.058205  0.066289  \n",
       "low                      0.009164  0.296965  \n",
       "medium                   0.028296  0.204373  "
      ]
     },
     "execution_count": 189,
     "metadata": {},
     "output_type": "execute_result"
    }
   ],
   "source": [
    "employees.groupby('Salary').mean()"
   ]
  },
  {
   "cell_type": "code",
   "execution_count": 268,
   "metadata": {
    "scrolled": true
   },
   "outputs": [
    {
     "data": {
      "text/plain": [
       "Text(0, 0.5, 'Frequency of Turnover')"
      ]
     },
     "execution_count": 268,
     "metadata": {},
     "output_type": "execute_result"
    },
    {
     "data": {
      "text/plain": [
       "<Figure size 576x288 with 0 Axes>"
      ]
     },
     "metadata": {},
     "output_type": "display_data"
    },
    {
     "data": {
      "image/png": "[encoded data removed]",
      "text/plain": [
       "<Figure size 432x288 with 1 Axes>"
      ]
     },
     "metadata": {},
     "output_type": "display_data"
    }
   ],
   "source": [
    "plt.figure(figsize=(8,4))\n",
    "pd.crosstab(employees.Department,employees.Who_left).plot(kind='bar')\n",
    "plt.title('Turnover Frequency per Department')\n",
    "plt.xlabel('Department')\n",
    "plt.ylabel('Frequency of Turnover')"
   ]
  },
  {
   "cell_type": "code",
   "execution_count": 191,
   "metadata": {
    "scrolled": true
   },
   "outputs": [
    {
     "data": {
      "text/plain": [
       "Text(0, 0.5, 'Proportion of Employees')"
      ]
     },
     "execution_count": 191,
     "metadata": {},
     "output_type": "execute_result"
    },
    {
     "data": {
      "image/png": "[encoded data removed]",
      "text/plain": [
       "<Figure size 432x288 with 1 Axes>"
      ]
     },
     "metadata": {},
     "output_type": "display_data"
    }
   ],
   "source": [
    "table=pd.crosstab(employees.Salary, employees.Who_left)\n",
    "table.div(table.sum(1).astype(float), axis=0).plot(kind='bar', stacked=True)\n",
    "plt.title('Stacked Bar Chart of Salary Level vs Turnover')\n",
    "plt.xlabel('Salary')\n",
    "plt.ylabel('Proportion of Employees')"
   ]
  },
  {
   "cell_type": "code",
   "execution_count": 192,
   "metadata": {},
   "outputs": [
    {
     "data": {
      "text/html": [
       "<div>\n",
       "<style scoped>\n",
       "    .dataframe tbody tr th:only-of-type {\n",
       "        vertical-align: middle;\n",
       "    }\n",
       "\n",
       "    .dataframe tbody tr th {\n",
       "        vertical-align: top;\n",
       "    }\n",
       "\n",
       "    .dataframe thead th {\n",
       "        text-align: right;\n",
       "    }\n",
       "</style>\n",
       "<table border=\"1\" class=\"dataframe\">\n",
       "  <thead>\n",
       "    <tr style=\"text-align: right;\">\n",
       "      <th>Who_left</th>\n",
       "      <th>0</th>\n",
       "      <th>1</th>\n",
       "    </tr>\n",
       "    <tr>\n",
       "      <th>Department</th>\n",
       "      <th></th>\n",
       "      <th></th>\n",
       "    </tr>\n",
       "  </thead>\n",
       "  <tbody>\n",
       "    <tr>\n",
       "      <th>IT</th>\n",
       "      <td>954</td>\n",
       "      <td>272</td>\n",
       "    </tr>\n",
       "    <tr>\n",
       "      <th>RandD</th>\n",
       "      <td>665</td>\n",
       "      <td>119</td>\n",
       "    </tr>\n",
       "    <tr>\n",
       "      <th>accounting</th>\n",
       "      <td>564</td>\n",
       "      <td>204</td>\n",
       "    </tr>\n",
       "    <tr>\n",
       "      <th>hr</th>\n",
       "      <td>525</td>\n",
       "      <td>215</td>\n",
       "    </tr>\n",
       "    <tr>\n",
       "      <th>management</th>\n",
       "      <td>539</td>\n",
       "      <td>91</td>\n",
       "    </tr>\n",
       "    <tr>\n",
       "      <th>marketing</th>\n",
       "      <td>655</td>\n",
       "      <td>204</td>\n",
       "    </tr>\n",
       "    <tr>\n",
       "      <th>product_mng</th>\n",
       "      <td>704</td>\n",
       "      <td>197</td>\n",
       "    </tr>\n",
       "    <tr>\n",
       "      <th>sales</th>\n",
       "      <td>3126</td>\n",
       "      <td>1013</td>\n",
       "    </tr>\n",
       "    <tr>\n",
       "      <th>support</th>\n",
       "      <td>1675</td>\n",
       "      <td>552</td>\n",
       "    </tr>\n",
       "    <tr>\n",
       "      <th>technical</th>\n",
       "      <td>2020</td>\n",
       "      <td>696</td>\n",
       "    </tr>\n",
       "  </tbody>\n",
       "</table>\n",
       "</div>"
      ],
      "text/plain": [
       "Who_left        0     1\n",
       "Department             \n",
       "IT            954   272\n",
       "RandD         665   119\n",
       "accounting    564   204\n",
       "hr            525   215\n",
       "management    539    91\n",
       "marketing     655   204\n",
       "product_mng   704   197\n",
       "sales        3126  1013\n",
       "support      1675   552\n",
       "technical    2020   696"
      ]
     },
     "execution_count": 192,
     "metadata": {},
     "output_type": "execute_result"
    }
   ],
   "source": [
    "pd.crosstab(employees.Department, employees.Who_left)"
   ]
  },
  {
   "cell_type": "code",
   "execution_count": 193,
   "metadata": {},
   "outputs": [
    {
     "data": {
      "image/png": "[encoded data removed]",
      "text/plain": [
       "<Figure size 1440x1080 with 12 Axes>"
      ]
     },
     "metadata": {},
     "output_type": "display_data"
    }
   ],
   "source": [
    "num_bins = 10\n",
    "\n",
    "employees.hist(bins=num_bins, figsize=(20,15))\n",
    "plt.show()"
   ]
  },
  {
   "cell_type": "code",
   "execution_count": 194,
   "metadata": {},
   "outputs": [],
   "source": [
    "cat_vars=['Department','Salary']\n",
    "for var in cat_vars:\n",
    "    cat_list='var'+'_'+var\n",
    "    cat_list = pd.get_dummies(employees[var], prefix=var)\n",
    "    employees1=employees.join(cat_list, how='left', lsuffix='_left', rsuffix='_right')\n",
    "    employees=employees1"
   ]
  },
  {
   "cell_type": "code",
   "execution_count": 195,
   "metadata": {},
   "outputs": [
    {
     "data": {
      "text/html": [
       "<div>\n",
       "<style scoped>\n",
       "    .dataframe tbody tr th:only-of-type {\n",
       "        vertical-align: middle;\n",
       "    }\n",
       "\n",
       "    .dataframe tbody tr th {\n",
       "        vertical-align: top;\n",
       "    }\n",
       "\n",
       "    .dataframe thead th {\n",
       "        text-align: right;\n",
       "    }\n",
       "</style>\n",
       "<table border=\"1\" class=\"dataframe\">\n",
       "  <thead>\n",
       "    <tr style=\"text-align: right;\">\n",
       "      <th></th>\n",
       "      <th>Emp ID</th>\n",
       "      <th>Total Years of Experience</th>\n",
       "      <th>No. of companies worked for previously</th>\n",
       "      <th>Work life balance Score</th>\n",
       "      <th>Satisfaction level</th>\n",
       "      <th>Last Evaluation</th>\n",
       "      <th>No. of projects</th>\n",
       "      <th>Average montly hours</th>\n",
       "      <th>Tenure of association</th>\n",
       "      <th>Work accident</th>\n",
       "      <th>...</th>\n",
       "      <th>Department_hr</th>\n",
       "      <th>Department_management</th>\n",
       "      <th>Department_marketing</th>\n",
       "      <th>Department_product_mng</th>\n",
       "      <th>Department_sales</th>\n",
       "      <th>Department_support</th>\n",
       "      <th>Department_technical</th>\n",
       "      <th>Salary_high</th>\n",
       "      <th>Salary_low</th>\n",
       "      <th>Salary_medium</th>\n",
       "    </tr>\n",
       "  </thead>\n",
       "  <tbody>\n",
       "    <tr>\n",
       "      <th>0</th>\n",
       "      <td>2001</td>\n",
       "      <td>13.0</td>\n",
       "      <td>0.0</td>\n",
       "      <td>4.0</td>\n",
       "      <td>0.58</td>\n",
       "      <td>0.74</td>\n",
       "      <td>4.0</td>\n",
       "      <td>215.0</td>\n",
       "      <td>3.0</td>\n",
       "      <td>0.0</td>\n",
       "      <td>...</td>\n",
       "      <td>0</td>\n",
       "      <td>0</td>\n",
       "      <td>0</td>\n",
       "      <td>0</td>\n",
       "      <td>1</td>\n",
       "      <td>0</td>\n",
       "      <td>0</td>\n",
       "      <td>0</td>\n",
       "      <td>1</td>\n",
       "      <td>0</td>\n",
       "    </tr>\n",
       "    <tr>\n",
       "      <th>1</th>\n",
       "      <td>2002</td>\n",
       "      <td>8.0</td>\n",
       "      <td>2.0</td>\n",
       "      <td>3.0</td>\n",
       "      <td>0.82</td>\n",
       "      <td>0.67</td>\n",
       "      <td>2.0</td>\n",
       "      <td>202.0</td>\n",
       "      <td>3.0</td>\n",
       "      <td>0.0</td>\n",
       "      <td>...</td>\n",
       "      <td>0</td>\n",
       "      <td>0</td>\n",
       "      <td>0</td>\n",
       "      <td>0</td>\n",
       "      <td>1</td>\n",
       "      <td>0</td>\n",
       "      <td>0</td>\n",
       "      <td>0</td>\n",
       "      <td>1</td>\n",
       "      <td>0</td>\n",
       "    </tr>\n",
       "    <tr>\n",
       "      <th>2</th>\n",
       "      <td>2003</td>\n",
       "      <td>6.0</td>\n",
       "      <td>0.0</td>\n",
       "      <td>2.0</td>\n",
       "      <td>0.45</td>\n",
       "      <td>0.69</td>\n",
       "      <td>5.0</td>\n",
       "      <td>193.0</td>\n",
       "      <td>3.0</td>\n",
       "      <td>0.0</td>\n",
       "      <td>...</td>\n",
       "      <td>0</td>\n",
       "      <td>0</td>\n",
       "      <td>0</td>\n",
       "      <td>0</td>\n",
       "      <td>1</td>\n",
       "      <td>0</td>\n",
       "      <td>0</td>\n",
       "      <td>0</td>\n",
       "      <td>1</td>\n",
       "      <td>0</td>\n",
       "    </tr>\n",
       "    <tr>\n",
       "      <th>3</th>\n",
       "      <td>2004</td>\n",
       "      <td>12.0</td>\n",
       "      <td>2.0</td>\n",
       "      <td>3.0</td>\n",
       "      <td>0.78</td>\n",
       "      <td>0.82</td>\n",
       "      <td>5.0</td>\n",
       "      <td>247.0</td>\n",
       "      <td>3.0</td>\n",
       "      <td>0.0</td>\n",
       "      <td>...</td>\n",
       "      <td>0</td>\n",
       "      <td>0</td>\n",
       "      <td>0</td>\n",
       "      <td>0</td>\n",
       "      <td>1</td>\n",
       "      <td>0</td>\n",
       "      <td>0</td>\n",
       "      <td>0</td>\n",
       "      <td>1</td>\n",
       "      <td>0</td>\n",
       "    </tr>\n",
       "    <tr>\n",
       "      <th>4</th>\n",
       "      <td>2005</td>\n",
       "      <td>20.0</td>\n",
       "      <td>1.0</td>\n",
       "      <td>1.0</td>\n",
       "      <td>0.49</td>\n",
       "      <td>0.60</td>\n",
       "      <td>3.0</td>\n",
       "      <td>214.0</td>\n",
       "      <td>2.0</td>\n",
       "      <td>0.0</td>\n",
       "      <td>...</td>\n",
       "      <td>0</td>\n",
       "      <td>0</td>\n",
       "      <td>0</td>\n",
       "      <td>0</td>\n",
       "      <td>1</td>\n",
       "      <td>0</td>\n",
       "      <td>0</td>\n",
       "      <td>0</td>\n",
       "      <td>1</td>\n",
       "      <td>0</td>\n",
       "    </tr>\n",
       "  </tbody>\n",
       "</table>\n",
       "<p>5 rows × 27 columns</p>\n",
       "</div>"
      ],
      "text/plain": [
       "   Emp ID  Total Years of Experience  No. of companies worked for previously  \\\n",
       "0    2001                       13.0                                     0.0   \n",
       "1    2002                        8.0                                     2.0   \n",
       "2    2003                        6.0                                     0.0   \n",
       "3    2004                       12.0                                     2.0   \n",
       "4    2005                       20.0                                     1.0   \n",
       "\n",
       "   Work life balance Score  Satisfaction level  Last Evaluation  \\\n",
       "0                      4.0                0.58             0.74   \n",
       "1                      3.0                0.82             0.67   \n",
       "2                      2.0                0.45             0.69   \n",
       "3                      3.0                0.78             0.82   \n",
       "4                      1.0                0.49             0.60   \n",
       "\n",
       "   No. of projects  Average montly hours  Tenure of association  \\\n",
       "0              4.0                 215.0                    3.0   \n",
       "1              2.0                 202.0                    3.0   \n",
       "2              5.0                 193.0                    3.0   \n",
       "3              5.0                 247.0                    3.0   \n",
       "4              3.0                 214.0                    2.0   \n",
       "\n",
       "   Work accident  ...  Department_hr Department_management  \\\n",
       "0            0.0  ...              0                     0   \n",
       "1            0.0  ...              0                     0   \n",
       "2            0.0  ...              0                     0   \n",
       "3            0.0  ...              0                     0   \n",
       "4            0.0  ...              0                     0   \n",
       "\n",
       "  Department_marketing  Department_product_mng  Department_sales  \\\n",
       "0                    0                       0                 1   \n",
       "1                    0                       0                 1   \n",
       "2                    0                       0                 1   \n",
       "3                    0                       0                 1   \n",
       "4                    0                       0                 1   \n",
       "\n",
       "   Department_support  Department_technical  Salary_high  Salary_low  \\\n",
       "0                   0                     0            0           1   \n",
       "1                   0                     0            0           1   \n",
       "2                   0                     0            0           1   \n",
       "3                   0                     0            0           1   \n",
       "4                   0                     0            0           1   \n",
       "\n",
       "   Salary_medium  \n",
       "0              0  \n",
       "1              0  \n",
       "2              0  \n",
       "3              0  \n",
       "4              0  \n",
       "\n",
       "[5 rows x 27 columns]"
      ]
     },
     "execution_count": 195,
     "metadata": {},
     "output_type": "execute_result"
    }
   ],
   "source": [
    "employees.head()"
   ]
  },
  {
   "cell_type": "code",
   "execution_count": 196,
   "metadata": {},
   "outputs": [],
   "source": [
    "employees1.drop(['Department','Salary','Emp ID' ],  axis='columns', inplace=True)"
   ]
  },
  {
   "cell_type": "code",
   "execution_count": 206,
   "metadata": {},
   "outputs": [],
   "source": [
    "employees2 = employees"
   ]
  },
  {
   "cell_type": "code",
   "execution_count": 207,
   "metadata": {},
   "outputs": [],
   "source": [
    "employees2.dropna(inplace=True)"
   ]
  },
  {
   "cell_type": "code",
   "execution_count": 208,
   "metadata": {},
   "outputs": [
    {
     "data": {
      "text/plain": [
       "array(['Total Years of Experience',\n",
       "       'No. of companies worked for previously',\n",
       "       'Work life balance Score', 'Satisfaction level', 'Last Evaluation',\n",
       "       'No. of projects', 'Average montly hours', 'Tenure of association',\n",
       "       'Work accident', 'Promotion in last 5 years', 'Who_left',\n",
       "       'Department_IT', 'Department_RandD', 'Department_accounting',\n",
       "       'Department_hr', 'Department_management', 'Department_marketing',\n",
       "       'Department_product_mng', 'Department_sales', 'Department_support',\n",
       "       'Department_technical', 'Salary_high', 'Salary_low',\n",
       "       'Salary_medium'], dtype=object)"
      ]
     },
     "execution_count": 208,
     "metadata": {},
     "output_type": "execute_result"
    }
   ],
   "source": [
    "\n",
    "employees2.columns.values"
   ]
  },
  {
   "cell_type": "code",
   "execution_count": 169,
   "metadata": {},
   "outputs": [],
   "source": [
    "from sklearn.model_selection import train_test_split"
   ]
  },
  {
   "cell_type": "code",
   "execution_count": 209,
   "metadata": {},
   "outputs": [],
   "source": [
    "X = employees2[['Total Years of Experience',\n",
    "       'No. of companies worked for previously',\n",
    "       'Work life balance Score', 'Satisfaction level', 'Last Evaluation',\n",
    "       'No. of projects', 'Average montly hours', 'Tenure of association',\n",
    "       'Work accident', 'Promotion in last 5 years',\n",
    "       'Department_IT', 'Department_RandD', 'Department_accounting',\n",
    "       'Department_hr', 'Department_management', 'Department_marketing',\n",
    "       'Department_product_mng', 'Department_sales', 'Department_support',\n",
    "       'Department_technical', 'Salary_high', 'Salary_low',\n",
    "       'Salary_medium']]\n",
    "y = employees2['Who_left']"
   ]
  },
  {
   "cell_type": "code",
   "execution_count": 210,
   "metadata": {},
   "outputs": [],
   "source": [
    "X_train, X_test, y_train, y_test = train_test_split(X, y, test_size=0.33, random_state=42)"
   ]
  },
  {
   "cell_type": "markdown",
   "metadata": {},
   "source": [
    "## predicting using Logistic Regression Model"
   ]
  },
  {
   "cell_type": "code",
   "execution_count": 204,
   "metadata": {},
   "outputs": [],
   "source": [
    "from sklearn.linear_model import LogisticRegression"
   ]
  },
  {
   "cell_type": "code",
   "execution_count": 213,
   "metadata": {},
   "outputs": [
    {
     "data": {
      "text/plain": [
       "LogisticRegression(max_iter=1000)"
      ]
     },
     "execution_count": 213,
     "metadata": {},
     "output_type": "execute_result"
    }
   ],
   "source": [
    "logmodel = LogisticRegression(solver='lbfgs', max_iter=1000)\n",
    "logmodel.fit(X_train,y_train)"
   ]
  },
  {
   "cell_type": "code",
   "execution_count": 214,
   "metadata": {},
   "outputs": [],
   "source": [
    "predictions = logmodel.predict(X_test)"
   ]
  },
  {
   "cell_type": "code",
   "execution_count": 215,
   "metadata": {},
   "outputs": [],
   "source": [
    "from sklearn.metrics import classification_report"
   ]
  },
  {
   "cell_type": "code",
   "execution_count": 216,
   "metadata": {},
   "outputs": [
    {
     "name": "stdout",
     "output_type": "stream",
     "text": [
      "              precision    recall  f1-score   support\n",
      "\n",
      "           0       0.88      0.96      0.92      3728\n",
      "           1       0.80      0.58      0.67      1123\n",
      "\n",
      "    accuracy                           0.87      4851\n",
      "   macro avg       0.84      0.77      0.79      4851\n",
      "weighted avg       0.86      0.87      0.86      4851\n",
      "\n"
     ]
    }
   ],
   "source": [
    "print(classification_report(y_test,predictions))"
   ]
  },
  {
   "cell_type": "code",
   "execution_count": null,
   "metadata": {},
   "outputs": [],
   "source": []
  },
  {
   "cell_type": "code",
   "execution_count": 218,
   "metadata": {
    "scrolled": true
   },
   "outputs": [
    {
     "name": "stdout",
     "output_type": "stream",
     "text": [
      "Logistic regression accuracy: 0.869\n"
     ]
    }
   ],
   "source": [
    "from sklearn.metrics import accuracy_score\n",
    "print('Logistic regression accuracy: {:.3f}'.format(accuracy_score(y_test, logmodel.predict(X_test))))"
   ]
  },
  {
   "cell_type": "markdown",
   "metadata": {},
   "source": [
    "## Logistic regression accuracy is : 86.9%"
   ]
  },
  {
   "cell_type": "markdown",
   "metadata": {},
   "source": [
    "## predicting using Random Forest Model"
   ]
  },
  {
   "cell_type": "code",
   "execution_count": 222,
   "metadata": {},
   "outputs": [
    {
     "data": {
      "text/plain": [
       "RandomForestClassifier(n_estimators=600)"
      ]
     },
     "execution_count": 222,
     "metadata": {},
     "output_type": "execute_result"
    }
   ],
   "source": [
    "from sklearn.ensemble import RandomForestClassifier\n",
    "rf = RandomForestClassifier(n_estimators=600)\n",
    "rf.fit(X_train, y_train)"
   ]
  },
  {
   "cell_type": "code",
   "execution_count": 224,
   "metadata": {},
   "outputs": [],
   "source": [
    "pred_rand = rf.predict(X_test)"
   ]
  },
  {
   "cell_type": "code",
   "execution_count": 238,
   "metadata": {
    "scrolled": true
   },
   "outputs": [
    {
     "name": "stdout",
     "output_type": "stream",
     "text": [
      "              precision    recall  f1-score   support\n",
      "\n",
      "           0       0.99      1.00      0.99      3728\n",
      "           1       0.99      0.96      0.97      1123\n",
      "\n",
      "    accuracy                           0.99      4851\n",
      "   macro avg       0.99      0.98      0.98      4851\n",
      "weighted avg       0.99      0.99      0.99      4851\n",
      "\n",
      "Random Forest accuracy: 0.988\n"
     ]
    }
   ],
   "source": [
    "print(classification_report(y_test,pred_rand))\n",
    "print('Random Forest accuracy: {:.3f}'.format(accuracy_score(y_test, rf.predict(X_test))))"
   ]
  },
  {
   "cell_type": "markdown",
   "metadata": {},
   "source": [
    "## Random Forest accuracy is : 98.8%"
   ]
  },
  {
   "cell_type": "code",
   "execution_count": 227,
   "metadata": {},
   "outputs": [],
   "source": [
    "from sklearn.metrics import confusion_matrix"
   ]
  },
  {
   "cell_type": "code",
   "execution_count": 228,
   "metadata": {
    "scrolled": false
   },
   "outputs": [
    {
     "name": "stdout",
     "output_type": "stream",
     "text": [
      "[[3717   11]\n",
      " [  45 1078]]\n"
     ]
    }
   ],
   "source": [
    "print(confusion_matrix(y_test,pred_rand))"
   ]
  },
  {
   "cell_type": "markdown",
   "metadata": {},
   "source": [
    "### The random Forest model is predicting quite good numbers when we check the confusion matrix"
   ]
  },
  {
   "cell_type": "markdown",
   "metadata": {},
   "source": [
    "#### Let's see what all variables are contrubuting to the employee attrition"
   ]
  },
  {
   "cell_type": "code",
   "execution_count": 259,
   "metadata": {},
   "outputs": [
    {
     "name": "stdout",
     "output_type": "stream",
     "text": [
      "Department_marketing-0.08%\n",
      "Department_IT-0.09%\n",
      "Department_management-0.10%\n",
      "Promotion in last 5 years-0.10%\n",
      "Department_product_mng-0.10%\n",
      "Department_RandD-0.11%\n",
      "Department_accounting-0.11%\n",
      "Department_hr-0.13%\n",
      "Department_support-0.19%\n",
      "Department_sales-0.21%\n",
      "Salary_medium-0.24%\n",
      "Department_technical-0.25%\n",
      "Salary_high-0.32%\n",
      "Salary_low-0.50%\n",
      "Work accident-0.65%\n",
      "Work life balance Score-0.65%\n",
      "Last Evaluation-7.80%\n",
      "No. of companies worked for previously-8.15%\n",
      "Average montly hours-9.61%\n",
      "Tenure of association-10.60%\n",
      "No. of projects-12.68%\n",
      "Satisfaction level-23.24%\n",
      "Total Years of Experience-24.09%\n"
     ]
    }
   ],
   "source": [
    "\n",
    "feature_labels = np.array(['Total Years of Experience',\n",
    "       'No. of companies worked for previously',\n",
    "       'Work life balance Score', 'Satisfaction level', 'Last Evaluation',\n",
    "       'No. of projects', 'Average montly hours', 'Tenure of association',\n",
    "       'Work accident', 'Promotion in last 5 years',\n",
    "       'Department_IT', 'Department_RandD', 'Department_accounting',\n",
    "       'Department_hr', 'Department_management', 'Department_marketing',\n",
    "       'Department_product_mng', 'Department_sales', 'Department_support',\n",
    "       'Department_technical', 'Salary_high', 'Salary_low',\n",
    "       'Salary_medium'])\n",
    "importance = rf.feature_importances_\n",
    "feature_indexes_by_importance = importance.argsort()\n",
    "for index in feature_indexes_by_importance:\n",
    "    print('{}-{:.2f}%'.format(feature_labels[index], (importance[index] *100.0)))\n",
    " #   analysis_result += ('{}-{:.2f}%'.format(feature_labels[index], (importance[index] *100.0)))"
   ]
  },
  {
   "attachments": {},
   "cell_type": "markdown",
   "metadata": {},
   "source": [
    "## Conclusion\n",
    "#### people are quitting the company mainly because...\n",
    "They are not getting promoted.\n",
    "\n",
    "Because of low work satisfaction.\n",
    "\n",
    "Those who have completed 3 years tenure with the company\n",
    "\n",
    "Employees having low salary\n",
    "\n",
    "Those who are having low work life balance. \n",
    "\n",
    "Workload and number of working hours might also affect."
   ]
  }
 ],
 "metadata": {
  "kernelspec": {
   "display_name": "Python 3",
   "language": "python",
   "name": "python3"
  },
  "language_info": {
   "codemirror_mode": {
    "name": "ipython",
    "version": 3
   },
   "file_extension": ".py",
   "mimetype": "text/x-python",
   "name": "python",
   "nbconvert_exporter": "python",
   "pygments_lexer": "ipython3",
   "version": "3.7.9"
  }
 },
 "nbformat": 4,
 "nbformat_minor": 4
}
